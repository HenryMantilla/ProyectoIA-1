{
  "nbformat": 4,
  "nbformat_minor": 0,
  "metadata": {
    "colab": {
      "provenance": [],
      "collapsed_sections": []
    },
    "kernelspec": {
      "name": "python3",
      "display_name": "Python 3"
    },
    "language_info": {
      "name": "python"
    },
    "accelerator": "GPU"
  },
  "cells": [
    {
      "cell_type": "markdown",
      "source": [
        "#**Breast Tumor Segmentation**"
      ],
      "metadata": {
        "id": "r9BPQBcymAf2"
      }
    },
    {
      "cell_type": "code",
      "execution_count": 1,
      "metadata": {
        "colab": {
          "base_uri": "https://localhost:8080/"
        },
        "id": "K5jFCmtAAp_D",
        "outputId": "f5c957de-3bb6-4c00-c548-101eee4a6ed3"
      },
      "outputs": [
        {
          "output_type": "stream",
          "name": "stdout",
          "text": [
            "Drive already mounted at /content/drive/; to attempt to forcibly remount, call drive.mount(\"/content/drive/\", force_remount=True).\n",
            "/content/drive/My Drive/ProyectoIA-H2\n"
          ]
        }
      ],
      "source": [
        "import os\n",
        "from google.colab import drive\n",
        "\n",
        "path_proyecto = \"ProyectoIA-H2\"\n",
        "path = \"/content/drive/My Drive/\" + path_proyecto\n",
        "\n",
        "drive.mount('/content/drive/')\n",
        "os.chdir(path)\n",
        "print(os.getcwd())"
      ]
    },
    {
      "cell_type": "code",
      "source": [
        "from PIL import Image\n",
        "from skimage.filters import roberts, sobel, scharr, prewitt\n",
        "import cv2\n",
        "import re\n",
        "import tensorflow as tf\n",
        "import pandas as pd\n",
        "import numpy as np\n",
        "from sklearn.model_selection import train_test_split\n",
        "from glob import glob\n",
        "import matplotlib.pyplot as plt\n",
        "from scipy import ndimage as nd"
      ],
      "metadata": {
        "id": "7O0EPpqQBoFu"
      },
      "execution_count": 2,
      "outputs": []
    },
    {
      "cell_type": "code",
      "source": [
        "PATH = \"Dataset_BUSI_with_GT\""
      ],
      "metadata": {
        "id": "481SHBOjBxUQ"
      },
      "execution_count": 3,
      "outputs": []
    },
    {
      "cell_type": "code",
      "source": [
        "def collect_data(name):\n",
        "    all_images = sorted(\n",
        "        glob(os.path.join(PATH, name + \"/*).png\")),\n",
        "        key=lambda x: [int(c) if c.isdigit() else c for c in re.split(r\"(\\d+)\", x)],\n",
        "    )\n",
        "    all_masks = sorted(\n",
        "        glob(os.path.join(PATH, name + \"/*mask*\")),\n",
        "        key=lambda x: [int(c) if c.isdigit() else c for c in re.split(r\"(\\d+)\", x)],\n",
        "    )\n",
        "    return all_images, all_masks"
      ],
      "metadata": {
        "id": "SdEbCnfFCIEa"
      },
      "execution_count": 4,
      "outputs": []
    },
    {
      "cell_type": "code",
      "source": [
        "def group_maks(masks):\n",
        "    new_masks = []\n",
        "    retard = 0\n",
        "    for i in range(len(masks)):\n",
        "        m = re.search(r\"mask_[0-9]\", masks[i])\n",
        "        if m:\n",
        "            new_masks[i - (retard + 1)] += cv2.resize(cv2.imread(masks[i], cv2.IMREAD_GRAYSCALE), (256, 256))\n",
        "            retard += 1\n",
        "        else:\n",
        "            new_masks.append(cv2.resize(cv2.imread(masks[i], cv2.IMREAD_GRAYSCALE), (256, 256)))\n",
        "    return new_masks"
      ],
      "metadata": {
        "id": "OeuYzmLfCLfX"
      },
      "execution_count": 5,
      "outputs": []
    },
    {
      "cell_type": "code",
      "source": [
        "all_benign_images, all_benign_masks = collect_data(\"benign\")\n",
        "all_benign_masks = group_maks(all_benign_masks)\n",
        "\n",
        "all_malignant_images, all_malignant_masks = collect_data(\"malignant\")\n",
        "all_malignant_masks = group_maks(all_malignant_masks)\n",
        "\n",
        "all_images = all_benign_images + all_malignant_images\n",
        "all_masks = all_benign_masks + all_malignant_masks"
      ],
      "metadata": {
        "id": "C2Rp95sBCTzP"
      },
      "execution_count": 6,
      "outputs": []
    },
    {
      "cell_type": "code",
      "source": [
        "images = []\n",
        "for i in range(len(all_images)):\n",
        "  images.append(cv2.resize(cv2.imread(all_images[i], cv2.IMREAD_GRAYSCALE), (256, 256)))"
      ],
      "metadata": {
        "id": "j8TquaTcCY44"
      },
      "execution_count": 7,
      "outputs": []
    },
    {
      "cell_type": "code",
      "source": [
        "new_images = np.asarray(images)\n",
        "all_masks = np.asarray(all_masks)\n",
        "print(all_masks.shape)\n",
        "print(new_images.shape)"
      ],
      "metadata": {
        "colab": {
          "base_uri": "https://localhost:8080/"
        },
        "id": "1shL4OF8CdG4",
        "outputId": "42479462-2f81-4426-8171-ca4845d03503"
      },
      "execution_count": 8,
      "outputs": [
        {
          "output_type": "stream",
          "name": "stdout",
          "text": [
            "(647, 256, 256)\n",
            "(647, 256, 256)\n"
          ]
        }
      ]
    },
    {
      "cell_type": "code",
      "source": [
        "X_train, X_test = train_test_split(new_images,test_size=0.2,random_state=1,shuffle = False)\n",
        "y_train, y_test = train_test_split(all_masks,test_size=0.2,random_state=1,shuffle = False)\n",
        "\n",
        "X_train, X_test = X_train/255, X_test/255\n",
        "y_train, y_test = y_train/255, y_test/255\n",
        "\n",
        "X_train = X_train.astype(np.float32)\n",
        "X_test = X_test.astype(np.float32)\n",
        "y_train = y_train.astype(np.float32)\n",
        "y_test = y_test.astype(np.float32)"
      ],
      "metadata": {
        "id": "6Qw7xF9jCdAs"
      },
      "execution_count": 9,
      "outputs": []
    },
    {
      "cell_type": "code",
      "source": [
        "y_train = np.expand_dims(y_train, axis = 3) \n",
        "\n",
        "X_train = np.expand_dims(X_train, axis = 3)"
      ],
      "metadata": {
        "id": "E_MoXqm3C-2M"
      },
      "execution_count": 10,
      "outputs": []
    },
    {
      "cell_type": "markdown",
      "source": [
        "#**Random Forest for image segmentation**"
      ],
      "metadata": {
        "id": "joz2w1C-5nXR"
      }
    },
    {
      "cell_type": "code",
      "source": [
        "#X = X_train.reshape(-1)\n",
        "selected_image = 25\n",
        "\n",
        "img = new_images[selected_image]\n",
        "img2 = img.reshape(-1)\n",
        "df = pd.DataFrame()\n",
        "df['Original Image'] = img2"
      ],
      "metadata": {
        "id": "f1gDCyaCGs-r"
      },
      "execution_count": 11,
      "outputs": []
    },
    {
      "cell_type": "code",
      "source": [
        "num = 1\n",
        "kernels = []\n",
        "for theta in range(2):\n",
        "    theta = theta / 4. * np.pi\n",
        "    for sigma in (1, 3):\n",
        "        for lamda in np.arange(0, np.pi, np.pi / 4):  \n",
        "            for gamma in (0.05, 0.5):   \n",
        "            \n",
        "                \n",
        "                gabor_label = 'Gabor' + str(num)\n",
        "\n",
        "                ksize=9\n",
        "                kernel = cv2.getGaborKernel((ksize, ksize), sigma, theta, lamda, gamma, 0, ktype=cv2.CV_32F)    \n",
        "                kernels.append(kernel)\n",
        "\n",
        "                fimg = cv2.filter2D(img2, cv2.CV_8UC3, kernel)\n",
        "                filtered_img = fimg.reshape(-1)\n",
        "                df[gabor_label] = filtered_img \n",
        "                print(gabor_label, ': theta=', theta, ': sigma=', sigma, ': lamda=', lamda, ': gamma=', gamma)\n",
        "                num += 1 "
      ],
      "metadata": {
        "colab": {
          "base_uri": "https://localhost:8080/"
        },
        "id": "g4FCcE2lGE5f",
        "outputId": "53463072-5171-43b0-a7f7-2cc57a6c97a8"
      },
      "execution_count": 12,
      "outputs": [
        {
          "output_type": "stream",
          "name": "stdout",
          "text": [
            "Gabor1 : theta= 0.0 : sigma= 1 : lamda= 0.0 : gamma= 0.05\n",
            "Gabor2 : theta= 0.0 : sigma= 1 : lamda= 0.0 : gamma= 0.5\n",
            "Gabor3 : theta= 0.0 : sigma= 1 : lamda= 0.7853981633974483 : gamma= 0.05\n",
            "Gabor4 : theta= 0.0 : sigma= 1 : lamda= 0.7853981633974483 : gamma= 0.5\n",
            "Gabor5 : theta= 0.0 : sigma= 1 : lamda= 1.5707963267948966 : gamma= 0.05\n",
            "Gabor6 : theta= 0.0 : sigma= 1 : lamda= 1.5707963267948966 : gamma= 0.5\n",
            "Gabor7 : theta= 0.0 : sigma= 1 : lamda= 2.356194490192345 : gamma= 0.05\n",
            "Gabor8 : theta= 0.0 : sigma= 1 : lamda= 2.356194490192345 : gamma= 0.5\n",
            "Gabor9 : theta= 0.0 : sigma= 3 : lamda= 0.0 : gamma= 0.05\n",
            "Gabor10 : theta= 0.0 : sigma= 3 : lamda= 0.0 : gamma= 0.5\n",
            "Gabor11 : theta= 0.0 : sigma= 3 : lamda= 0.7853981633974483 : gamma= 0.05\n",
            "Gabor12 : theta= 0.0 : sigma= 3 : lamda= 0.7853981633974483 : gamma= 0.5\n",
            "Gabor13 : theta= 0.0 : sigma= 3 : lamda= 1.5707963267948966 : gamma= 0.05\n",
            "Gabor14 : theta= 0.0 : sigma= 3 : lamda= 1.5707963267948966 : gamma= 0.5\n",
            "Gabor15 : theta= 0.0 : sigma= 3 : lamda= 2.356194490192345 : gamma= 0.05\n",
            "Gabor16 : theta= 0.0 : sigma= 3 : lamda= 2.356194490192345 : gamma= 0.5\n",
            "Gabor17 : theta= 0.7853981633974483 : sigma= 1 : lamda= 0.0 : gamma= 0.05\n",
            "Gabor18 : theta= 0.7853981633974483 : sigma= 1 : lamda= 0.0 : gamma= 0.5\n",
            "Gabor19 : theta= 0.7853981633974483 : sigma= 1 : lamda= 0.7853981633974483 : gamma= 0.05\n",
            "Gabor20 : theta= 0.7853981633974483 : sigma= 1 : lamda= 0.7853981633974483 : gamma= 0.5\n",
            "Gabor21 : theta= 0.7853981633974483 : sigma= 1 : lamda= 1.5707963267948966 : gamma= 0.05\n",
            "Gabor22 : theta= 0.7853981633974483 : sigma= 1 : lamda= 1.5707963267948966 : gamma= 0.5\n",
            "Gabor23 : theta= 0.7853981633974483 : sigma= 1 : lamda= 2.356194490192345 : gamma= 0.05\n",
            "Gabor24 : theta= 0.7853981633974483 : sigma= 1 : lamda= 2.356194490192345 : gamma= 0.5\n",
            "Gabor25 : theta= 0.7853981633974483 : sigma= 3 : lamda= 0.0 : gamma= 0.05\n",
            "Gabor26 : theta= 0.7853981633974483 : sigma= 3 : lamda= 0.0 : gamma= 0.5\n",
            "Gabor27 : theta= 0.7853981633974483 : sigma= 3 : lamda= 0.7853981633974483 : gamma= 0.05\n",
            "Gabor28 : theta= 0.7853981633974483 : sigma= 3 : lamda= 0.7853981633974483 : gamma= 0.5\n",
            "Gabor29 : theta= 0.7853981633974483 : sigma= 3 : lamda= 1.5707963267948966 : gamma= 0.05\n",
            "Gabor30 : theta= 0.7853981633974483 : sigma= 3 : lamda= 1.5707963267948966 : gamma= 0.5\n",
            "Gabor31 : theta= 0.7853981633974483 : sigma= 3 : lamda= 2.356194490192345 : gamma= 0.05\n",
            "Gabor32 : theta= 0.7853981633974483 : sigma= 3 : lamda= 2.356194490192345 : gamma= 0.5\n"
          ]
        }
      ]
    },
    {
      "cell_type": "code",
      "source": [
        "edge = cv2.Canny(img, 100,200)\n",
        "edge1 = edge.reshape(-1)  \n",
        "df['Canny Edge'] = edge1\n",
        "\n",
        "#Roberts Edge\n",
        "edge_roberts = roberts(img)\n",
        "edge_roberts1 = edge_roberts.reshape(-1)\n",
        "df['Roberts'] = edge_roberts1\n",
        "\n",
        "#Sobel Edge\n",
        "edge_sobel = sobel(img)\n",
        "edge_sobel1 = edge_sobel.reshape(-1)\n",
        "df['Sobel'] = edge_sobel1\n",
        "\n",
        "#Scharr Edge\n",
        "edge_scharr = scharr(img)\n",
        "edge_scharr1 = edge_scharr.reshape(-1)\n",
        "df['Scharr'] = edge_scharr1\n",
        "\n",
        "#Prewitt Edge\n",
        "edge_prewitt = prewitt(img)\n",
        "edge_prewitt1 = edge_prewitt.reshape(-1)\n",
        "df['Prewitt'] = edge_prewitt1\n",
        "\n",
        "#Gaussian con sigma 3\n",
        "gaussian_img = nd.gaussian_filter(img, sigma=3)\n",
        "gaussian_img1 = gaussian_img.reshape(-1)\n",
        "df['Gaussian s3'] = gaussian_img1\n",
        "\n",
        "#Gaussian con sigma 7\n",
        "gaussian_img2 = nd.gaussian_filter(img, sigma=7)\n",
        "gaussian_img3 = gaussian_img2.reshape(-1)\n",
        "df['Gaussian s7'] = gaussian_img3\n",
        "\n",
        "#Median con sigma 3\n",
        "median_img = nd.median_filter(img, size=3)\n",
        "median_img1 = median_img.reshape(-1)\n",
        "df['Median s3'] = median_img1"
      ],
      "metadata": {
        "id": "Ct2eGjU2GnOW"
      },
      "execution_count": 13,
      "outputs": []
    },
    {
      "cell_type": "code",
      "source": [
        "label_img = y_train[selected_image]\n",
        "label_img2 = label_img.reshape(-1)\n",
        "df['Label'] = label_img2\n",
        "\n",
        "df.head(10)"
      ],
      "metadata": {
        "id": "m7c2UuamdWDa",
        "colab": {
          "base_uri": "https://localhost:8080/",
          "height": 474
        },
        "outputId": "3eeb89f6-2630-4ce5-f548-fbb59186e443"
      },
      "execution_count": 14,
      "outputs": [
        {
          "output_type": "execute_result",
          "data": {
            "text/plain": [
              "   Original Image  Gabor1  Gabor2  Gabor3  Gabor4  Gabor5  Gabor6  Gabor7  \\\n",
              "0               7       0       0     255     252     147      82      59   \n",
              "1             160       0       0     255     252     147      82      59   \n",
              "2              87       0       0     255     255     169      84      69   \n",
              "3              11       0       0     255     255     178      88      72   \n",
              "4             137       0       0     255     255     174      96      71   \n",
              "5             137       0       0     255     255     199     107      81   \n",
              "6             134       0       0     255     255     197     116      80   \n",
              "7             134       0       0     255     255     209     122      85   \n",
              "8             139       0       0     255     255     233     128      95   \n",
              "9             142       0       0     255     255     234     130      95   \n",
              "\n",
              "   Gabor8  Gabor9  ...  Gabor32  Canny Edge   Roberts     Sobel    Scharr  \\\n",
              "0      33       0  ...        0         255  0.390684  0.342599  0.363071   \n",
              "1      33       0  ...       98           0  0.084882  0.274336  0.275812   \n",
              "2      34       0  ...      105         255  0.523974  0.356477  0.384628   \n",
              "3      36       0  ...        0           0  0.484413  0.093184  0.098072   \n",
              "4      39       0  ...       75         255  0.038623  0.340755  0.342982   \n",
              "5      44       0  ...      124           0  0.047708  0.031677  0.032902   \n",
              "6      47       0  ...       23           0  0.034745  0.028633  0.029319   \n",
              "7      50       0  ...       37           0  0.031617  0.026543  0.025264   \n",
              "8      52       0  ...       70           0  0.016169  0.027240  0.026146   \n",
              "9      52       0  ...       66           0  0.022356  0.026759  0.027465   \n",
              "\n",
              "    Prewitt  Gaussian s3  Gaussian s7  Median s3  Label  \n",
              "0  0.317355           92          108         33    0.0  \n",
              "1  0.288889           94          109         87    0.0  \n",
              "2  0.328167           98          109         87    0.0  \n",
              "3  0.095916          104          110         87    0.0  \n",
              "4  0.337788          110          111        132    0.0  \n",
              "5  0.030179          117          113        134    0.0  \n",
              "6  0.027791          122          114        134    0.0  \n",
              "7  0.028294          127          116        134    0.0  \n",
              "8  0.028699          130          117        139    0.0  \n",
              "9  0.026095          132          119        142    0.0  \n",
              "\n",
              "[10 rows x 42 columns]"
            ],
            "text/html": [
              "\n",
              "  <div id=\"df-a78a1233-32f9-42e3-9c21-a32445c73e5c\">\n",
              "    <div class=\"colab-df-container\">\n",
              "      <div>\n",
              "<style scoped>\n",
              "    .dataframe tbody tr th:only-of-type {\n",
              "        vertical-align: middle;\n",
              "    }\n",
              "\n",
              "    .dataframe tbody tr th {\n",
              "        vertical-align: top;\n",
              "    }\n",
              "\n",
              "    .dataframe thead th {\n",
              "        text-align: right;\n",
              "    }\n",
              "</style>\n",
              "<table border=\"1\" class=\"dataframe\">\n",
              "  <thead>\n",
              "    <tr style=\"text-align: right;\">\n",
              "      <th></th>\n",
              "      <th>Original Image</th>\n",
              "      <th>Gabor1</th>\n",
              "      <th>Gabor2</th>\n",
              "      <th>Gabor3</th>\n",
              "      <th>Gabor4</th>\n",
              "      <th>Gabor5</th>\n",
              "      <th>Gabor6</th>\n",
              "      <th>Gabor7</th>\n",
              "      <th>Gabor8</th>\n",
              "      <th>Gabor9</th>\n",
              "      <th>...</th>\n",
              "      <th>Gabor32</th>\n",
              "      <th>Canny Edge</th>\n",
              "      <th>Roberts</th>\n",
              "      <th>Sobel</th>\n",
              "      <th>Scharr</th>\n",
              "      <th>Prewitt</th>\n",
              "      <th>Gaussian s3</th>\n",
              "      <th>Gaussian s7</th>\n",
              "      <th>Median s3</th>\n",
              "      <th>Label</th>\n",
              "    </tr>\n",
              "  </thead>\n",
              "  <tbody>\n",
              "    <tr>\n",
              "      <th>0</th>\n",
              "      <td>7</td>\n",
              "      <td>0</td>\n",
              "      <td>0</td>\n",
              "      <td>255</td>\n",
              "      <td>252</td>\n",
              "      <td>147</td>\n",
              "      <td>82</td>\n",
              "      <td>59</td>\n",
              "      <td>33</td>\n",
              "      <td>0</td>\n",
              "      <td>...</td>\n",
              "      <td>0</td>\n",
              "      <td>255</td>\n",
              "      <td>0.390684</td>\n",
              "      <td>0.342599</td>\n",
              "      <td>0.363071</td>\n",
              "      <td>0.317355</td>\n",
              "      <td>92</td>\n",
              "      <td>108</td>\n",
              "      <td>33</td>\n",
              "      <td>0.0</td>\n",
              "    </tr>\n",
              "    <tr>\n",
              "      <th>1</th>\n",
              "      <td>160</td>\n",
              "      <td>0</td>\n",
              "      <td>0</td>\n",
              "      <td>255</td>\n",
              "      <td>252</td>\n",
              "      <td>147</td>\n",
              "      <td>82</td>\n",
              "      <td>59</td>\n",
              "      <td>33</td>\n",
              "      <td>0</td>\n",
              "      <td>...</td>\n",
              "      <td>98</td>\n",
              "      <td>0</td>\n",
              "      <td>0.084882</td>\n",
              "      <td>0.274336</td>\n",
              "      <td>0.275812</td>\n",
              "      <td>0.288889</td>\n",
              "      <td>94</td>\n",
              "      <td>109</td>\n",
              "      <td>87</td>\n",
              "      <td>0.0</td>\n",
              "    </tr>\n",
              "    <tr>\n",
              "      <th>2</th>\n",
              "      <td>87</td>\n",
              "      <td>0</td>\n",
              "      <td>0</td>\n",
              "      <td>255</td>\n",
              "      <td>255</td>\n",
              "      <td>169</td>\n",
              "      <td>84</td>\n",
              "      <td>69</td>\n",
              "      <td>34</td>\n",
              "      <td>0</td>\n",
              "      <td>...</td>\n",
              "      <td>105</td>\n",
              "      <td>255</td>\n",
              "      <td>0.523974</td>\n",
              "      <td>0.356477</td>\n",
              "      <td>0.384628</td>\n",
              "      <td>0.328167</td>\n",
              "      <td>98</td>\n",
              "      <td>109</td>\n",
              "      <td>87</td>\n",
              "      <td>0.0</td>\n",
              "    </tr>\n",
              "    <tr>\n",
              "      <th>3</th>\n",
              "      <td>11</td>\n",
              "      <td>0</td>\n",
              "      <td>0</td>\n",
              "      <td>255</td>\n",
              "      <td>255</td>\n",
              "      <td>178</td>\n",
              "      <td>88</td>\n",
              "      <td>72</td>\n",
              "      <td>36</td>\n",
              "      <td>0</td>\n",
              "      <td>...</td>\n",
              "      <td>0</td>\n",
              "      <td>0</td>\n",
              "      <td>0.484413</td>\n",
              "      <td>0.093184</td>\n",
              "      <td>0.098072</td>\n",
              "      <td>0.095916</td>\n",
              "      <td>104</td>\n",
              "      <td>110</td>\n",
              "      <td>87</td>\n",
              "      <td>0.0</td>\n",
              "    </tr>\n",
              "    <tr>\n",
              "      <th>4</th>\n",
              "      <td>137</td>\n",
              "      <td>0</td>\n",
              "      <td>0</td>\n",
              "      <td>255</td>\n",
              "      <td>255</td>\n",
              "      <td>174</td>\n",
              "      <td>96</td>\n",
              "      <td>71</td>\n",
              "      <td>39</td>\n",
              "      <td>0</td>\n",
              "      <td>...</td>\n",
              "      <td>75</td>\n",
              "      <td>255</td>\n",
              "      <td>0.038623</td>\n",
              "      <td>0.340755</td>\n",
              "      <td>0.342982</td>\n",
              "      <td>0.337788</td>\n",
              "      <td>110</td>\n",
              "      <td>111</td>\n",
              "      <td>132</td>\n",
              "      <td>0.0</td>\n",
              "    </tr>\n",
              "    <tr>\n",
              "      <th>5</th>\n",
              "      <td>137</td>\n",
              "      <td>0</td>\n",
              "      <td>0</td>\n",
              "      <td>255</td>\n",
              "      <td>255</td>\n",
              "      <td>199</td>\n",
              "      <td>107</td>\n",
              "      <td>81</td>\n",
              "      <td>44</td>\n",
              "      <td>0</td>\n",
              "      <td>...</td>\n",
              "      <td>124</td>\n",
              "      <td>0</td>\n",
              "      <td>0.047708</td>\n",
              "      <td>0.031677</td>\n",
              "      <td>0.032902</td>\n",
              "      <td>0.030179</td>\n",
              "      <td>117</td>\n",
              "      <td>113</td>\n",
              "      <td>134</td>\n",
              "      <td>0.0</td>\n",
              "    </tr>\n",
              "    <tr>\n",
              "      <th>6</th>\n",
              "      <td>134</td>\n",
              "      <td>0</td>\n",
              "      <td>0</td>\n",
              "      <td>255</td>\n",
              "      <td>255</td>\n",
              "      <td>197</td>\n",
              "      <td>116</td>\n",
              "      <td>80</td>\n",
              "      <td>47</td>\n",
              "      <td>0</td>\n",
              "      <td>...</td>\n",
              "      <td>23</td>\n",
              "      <td>0</td>\n",
              "      <td>0.034745</td>\n",
              "      <td>0.028633</td>\n",
              "      <td>0.029319</td>\n",
              "      <td>0.027791</td>\n",
              "      <td>122</td>\n",
              "      <td>114</td>\n",
              "      <td>134</td>\n",
              "      <td>0.0</td>\n",
              "    </tr>\n",
              "    <tr>\n",
              "      <th>7</th>\n",
              "      <td>134</td>\n",
              "      <td>0</td>\n",
              "      <td>0</td>\n",
              "      <td>255</td>\n",
              "      <td>255</td>\n",
              "      <td>209</td>\n",
              "      <td>122</td>\n",
              "      <td>85</td>\n",
              "      <td>50</td>\n",
              "      <td>0</td>\n",
              "      <td>...</td>\n",
              "      <td>37</td>\n",
              "      <td>0</td>\n",
              "      <td>0.031617</td>\n",
              "      <td>0.026543</td>\n",
              "      <td>0.025264</td>\n",
              "      <td>0.028294</td>\n",
              "      <td>127</td>\n",
              "      <td>116</td>\n",
              "      <td>134</td>\n",
              "      <td>0.0</td>\n",
              "    </tr>\n",
              "    <tr>\n",
              "      <th>8</th>\n",
              "      <td>139</td>\n",
              "      <td>0</td>\n",
              "      <td>0</td>\n",
              "      <td>255</td>\n",
              "      <td>255</td>\n",
              "      <td>233</td>\n",
              "      <td>128</td>\n",
              "      <td>95</td>\n",
              "      <td>52</td>\n",
              "      <td>0</td>\n",
              "      <td>...</td>\n",
              "      <td>70</td>\n",
              "      <td>0</td>\n",
              "      <td>0.016169</td>\n",
              "      <td>0.027240</td>\n",
              "      <td>0.026146</td>\n",
              "      <td>0.028699</td>\n",
              "      <td>130</td>\n",
              "      <td>117</td>\n",
              "      <td>139</td>\n",
              "      <td>0.0</td>\n",
              "    </tr>\n",
              "    <tr>\n",
              "      <th>9</th>\n",
              "      <td>142</td>\n",
              "      <td>0</td>\n",
              "      <td>0</td>\n",
              "      <td>255</td>\n",
              "      <td>255</td>\n",
              "      <td>234</td>\n",
              "      <td>130</td>\n",
              "      <td>95</td>\n",
              "      <td>52</td>\n",
              "      <td>0</td>\n",
              "      <td>...</td>\n",
              "      <td>66</td>\n",
              "      <td>0</td>\n",
              "      <td>0.022356</td>\n",
              "      <td>0.026759</td>\n",
              "      <td>0.027465</td>\n",
              "      <td>0.026095</td>\n",
              "      <td>132</td>\n",
              "      <td>119</td>\n",
              "      <td>142</td>\n",
              "      <td>0.0</td>\n",
              "    </tr>\n",
              "  </tbody>\n",
              "</table>\n",
              "<p>10 rows × 42 columns</p>\n",
              "</div>\n",
              "      <button class=\"colab-df-convert\" onclick=\"convertToInteractive('df-a78a1233-32f9-42e3-9c21-a32445c73e5c')\"\n",
              "              title=\"Convert this dataframe to an interactive table.\"\n",
              "              style=\"display:none;\">\n",
              "        \n",
              "  <svg xmlns=\"http://www.w3.org/2000/svg\" height=\"24px\"viewBox=\"0 0 24 24\"\n",
              "       width=\"24px\">\n",
              "    <path d=\"M0 0h24v24H0V0z\" fill=\"none\"/>\n",
              "    <path d=\"M18.56 5.44l.94 2.06.94-2.06 2.06-.94-2.06-.94-.94-2.06-.94 2.06-2.06.94zm-11 1L8.5 8.5l.94-2.06 2.06-.94-2.06-.94L8.5 2.5l-.94 2.06-2.06.94zm10 10l.94 2.06.94-2.06 2.06-.94-2.06-.94-.94-2.06-.94 2.06-2.06.94z\"/><path d=\"M17.41 7.96l-1.37-1.37c-.4-.4-.92-.59-1.43-.59-.52 0-1.04.2-1.43.59L10.3 9.45l-7.72 7.72c-.78.78-.78 2.05 0 2.83L4 21.41c.39.39.9.59 1.41.59.51 0 1.02-.2 1.41-.59l7.78-7.78 2.81-2.81c.8-.78.8-2.07 0-2.86zM5.41 20L4 18.59l7.72-7.72 1.47 1.35L5.41 20z\"/>\n",
              "  </svg>\n",
              "      </button>\n",
              "      \n",
              "  <style>\n",
              "    .colab-df-container {\n",
              "      display:flex;\n",
              "      flex-wrap:wrap;\n",
              "      gap: 12px;\n",
              "    }\n",
              "\n",
              "    .colab-df-convert {\n",
              "      background-color: #E8F0FE;\n",
              "      border: none;\n",
              "      border-radius: 50%;\n",
              "      cursor: pointer;\n",
              "      display: none;\n",
              "      fill: #1967D2;\n",
              "      height: 32px;\n",
              "      padding: 0 0 0 0;\n",
              "      width: 32px;\n",
              "    }\n",
              "\n",
              "    .colab-df-convert:hover {\n",
              "      background-color: #E2EBFA;\n",
              "      box-shadow: 0px 1px 2px rgba(60, 64, 67, 0.3), 0px 1px 3px 1px rgba(60, 64, 67, 0.15);\n",
              "      fill: #174EA6;\n",
              "    }\n",
              "\n",
              "    [theme=dark] .colab-df-convert {\n",
              "      background-color: #3B4455;\n",
              "      fill: #D2E3FC;\n",
              "    }\n",
              "\n",
              "    [theme=dark] .colab-df-convert:hover {\n",
              "      background-color: #434B5C;\n",
              "      box-shadow: 0px 1px 3px 1px rgba(0, 0, 0, 0.15);\n",
              "      filter: drop-shadow(0px 1px 2px rgba(0, 0, 0, 0.3));\n",
              "      fill: #FFFFFF;\n",
              "    }\n",
              "  </style>\n",
              "\n",
              "      <script>\n",
              "        const buttonEl =\n",
              "          document.querySelector('#df-a78a1233-32f9-42e3-9c21-a32445c73e5c button.colab-df-convert');\n",
              "        buttonEl.style.display =\n",
              "          google.colab.kernel.accessAllowed ? 'block' : 'none';\n",
              "\n",
              "        async function convertToInteractive(key) {\n",
              "          const element = document.querySelector('#df-a78a1233-32f9-42e3-9c21-a32445c73e5c');\n",
              "          const dataTable =\n",
              "            await google.colab.kernel.invokeFunction('convertToInteractive',\n",
              "                                                     [key], {});\n",
              "          if (!dataTable) return;\n",
              "\n",
              "          const docLinkHtml = 'Like what you see? Visit the ' +\n",
              "            '<a target=\"_blank\" href=https://colab.research.google.com/notebooks/data_table.ipynb>data table notebook</a>'\n",
              "            + ' to learn more about interactive tables.';\n",
              "          element.innerHTML = '';\n",
              "          dataTable['output_type'] = 'display_data';\n",
              "          await google.colab.output.renderOutput(dataTable, element);\n",
              "          const docLink = document.createElement('div');\n",
              "          docLink.innerHTML = docLinkHtml;\n",
              "          element.appendChild(docLink);\n",
              "        }\n",
              "      </script>\n",
              "    </div>\n",
              "  </div>\n",
              "  "
            ]
          },
          "metadata": {},
          "execution_count": 14
        }
      ]
    },
    {
      "cell_type": "code",
      "source": [
        "Y = df[\"Label\"].values\n",
        "X = df.drop(labels = [\"Label\"], axis=1) \n",
        "X_train, X_test, y_train, y_test = train_test_split(X, Y, test_size=0.4)\n",
        "\n",
        "y_train[y_train >= 0.5] = 1\n",
        "y_train[y_train < 0.5] = 0\n",
        "\n",
        "y_test[y_test >= 0.5] = 1\n",
        "y_test[y_test < 0.5] = 0"
      ],
      "metadata": {
        "id": "Ez2irp1SecEH"
      },
      "execution_count": 15,
      "outputs": []
    },
    {
      "cell_type": "code",
      "source": [
        "#x = np.array(y_train)\n",
        "#print(np.unique(x))"
      ],
      "metadata": {
        "id": "hRABHC42hr8Q"
      },
      "execution_count": 16,
      "outputs": []
    },
    {
      "cell_type": "code",
      "source": [
        "from sklearn.ensemble import RandomForestClassifier\n",
        "from sklearn.metrics import classification_report\n",
        "from sklearn.metrics import accuracy_score\n",
        "\n",
        "est = RandomForestClassifier(max_depth=10, n_estimators=150, random_state=21)\n",
        "est.fit(X_train, y_train)\n",
        "\n",
        "y_pred=est.predict(X_test)\n",
        "acc = accuracy_score(y_pred,y_test)\n",
        "\n",
        "report = classification_report(y_test,y_pred)\n",
        "\n",
        "print(acc)\n",
        "print(report)"
      ],
      "metadata": {
        "colab": {
          "base_uri": "https://localhost:8080/"
        },
        "id": "XFlPOPt1eq6J",
        "outputId": "ef2eb442-1091-474b-9796-c71dd7f55dbd"
      },
      "execution_count": 17,
      "outputs": [
        {
          "output_type": "stream",
          "name": "stdout",
          "text": [
            "0.9686057600610337\n",
            "              precision    recall  f1-score   support\n",
            "\n",
            "         0.0       0.97      1.00      0.98     22744\n",
            "         1.0       0.97      0.79      0.87      3471\n",
            "\n",
            "    accuracy                           0.97     26215\n",
            "   macro avg       0.97      0.89      0.93     26215\n",
            "weighted avg       0.97      0.97      0.97     26215\n",
            "\n"
          ]
        }
      ]
    },
    {
      "cell_type": "code",
      "source": [
        "prediction = est.predict(X)\n",
        "predicted_mask = prediction.reshape((img.shape))\n",
        "\n",
        "ground_truth = np.reshape(Y, (256,256))\n",
        "\n",
        "plt.imshow(predicted_mask)"
      ],
      "metadata": {
        "id": "NXAqN3rM2xoI",
        "colab": {
          "base_uri": "https://localhost:8080/",
          "height": 286
        },
        "outputId": "5e2b4954-7079-4922-eca3-9674c781849f"
      },
      "execution_count": 18,
      "outputs": [
        {
          "output_type": "execute_result",
          "data": {
            "text/plain": [
              "<matplotlib.image.AxesImage at 0x7fb3211e6c50>"
            ]
          },
          "metadata": {},
          "execution_count": 18
        },
        {
          "output_type": "display_data",
          "data": {
            "text/plain": [
              "<Figure size 432x288 with 1 Axes>"
            ],
            "image/png": "[encoded data removed]"
          },
          "metadata": {
            "needs_background": "light"
          }
        }
      ]
    },
    {
      "cell_type": "markdown",
      "source": [
        "# **SVC for image segmentation**"
      ],
      "metadata": {
        "id": "r2n-5NCG5Zje"
      }
    },
    {
      "cell_type": "code",
      "source": [
        "from sklearn.svm import LinearSVC\n",
        "\n",
        "estSVC = LinearSVC(max_iter = 100)\n",
        "estSVC.fit(X_train, y_train)\n",
        "\n",
        "SVC_prediction = estSVC.predict(X)\n",
        "SVC_mask = SVC_prediction.reshape((img.shape))"
      ],
      "metadata": {
        "colab": {
          "base_uri": "https://localhost:8080/"
        },
        "id": "Y2QS0Vwx5Y_j",
        "outputId": "da7eb546-3719-4d3f-f741-c7550bf7ab13"
      },
      "execution_count": 19,
      "outputs": [
        {
          "output_type": "stream",
          "name": "stderr",
          "text": [
            "/usr/local/lib/python3.7/dist-packages/sklearn/svm/_base.py:1208: ConvergenceWarning: Liblinear failed to converge, increase the number of iterations.\n",
            "  ConvergenceWarning,\n"
          ]
        }
      ]
    },
    {
      "cell_type": "code",
      "source": [
        "fig, axs = plt.subplots(2,2, figsize=(8,5))\n",
        "\n",
        "Original_image = selected_image\n",
        "axs[0,0].set(title = 'Original Ultrasound Image')\n",
        "axs[0,0].imshow(img, cmap = 'gray')\n",
        "\n",
        "axs[1,0].set(title = 'Ground Truth')\n",
        "axs[1,0].imshow(ground_truth, cmap = plt.cm.gray)\n",
        "\n",
        "axs[0,1].set(title = 'Predicted Mask with RF')\n",
        "axs[0,1].imshow(predicted_mask, cmap = plt.cm.gray)\n",
        "\n",
        "axs[1,1].set(title = 'Predicted Mask with SVC')\n",
        "axs[1,1].imshow(SVC_mask, cmap = plt.cm.gray)\n",
        "\n",
        "plt.subplots_adjust(left=0.2, bottom=0.2, right=1, top=1.2, wspace=0.4, hspace=0.4)\n",
        "plt.show()"
      ],
      "metadata": {
        "colab": {
          "base_uri": "https://localhost:8080/",
          "height": 424
        },
        "id": "WX-4jRUo0_AB",
        "outputId": "21d43360-b66b-4b14-fbfb-1dbb9532e855"
      },
      "execution_count": 20,
      "outputs": [
        {
          "output_type": "display_data",
          "data": {
            "text/plain": [
              "<Figure size 576x360 with 4 Axes>"
            ],
            "image/png": "[encoded data removed]"
          },
          "metadata": {
            "needs_background": "light"
          }
        }
      ]
    },
    {
      "cell_type": "code",
      "source": [
        "X_train_seg, X_test_seg = train_test_split(new_images,test_size=0.2,random_state=1,shuffle = False)\n",
        "y_train_seg, y_test_seg = train_test_split(all_masks,test_size=0.2,random_state=1,shuffle = False)\n",
        "\n",
        "X_train_seg, X_test_seg = X_train_seg/255, X_test_seg/255\n",
        "y_train_seg, y_test_seg = y_train_seg/255, y_test_seg/255\n",
        "\n",
        "X_train_seg = X_train_seg.astype(np.float32)\n",
        "X_test_seg = X_test_seg.astype(np.float32)\n",
        "y_train_seg = y_train_seg.astype(np.float32)\n",
        "y_test_seg = y_test_seg.astype(np.float32)\n"
      ],
      "metadata": {
        "id": "iDpGW2dNxYw5"
      },
      "execution_count": 21,
      "outputs": []
    },
    {
      "cell_type": "markdown",
      "source": [
        "#**Tumor segmentation with U-net**"
      ],
      "metadata": {
        "id": "OIUTyqukJ9qA"
      }
    },
    {
      "cell_type": "code",
      "source": [
        "from keras.models import Model\n",
        "from keras.layers import Conv2D, MaxPooling2D, UpSampling2D, Dropout, Input, concatenate, Conv2DTranspose\n",
        "\n",
        "inputs = Input((256, 256, 1))\n",
        "\n",
        "c1 = Conv2D(16, (3, 3), activation='elu', kernel_initializer='he_normal', padding='same') (inputs)\n",
        "c1 = Dropout(0.1) (c1)\n",
        "c1 = Conv2D(16, (3, 3), activation='elu', kernel_initializer='he_normal', padding='same') (c1)\n",
        "p1 = MaxPooling2D((2, 2)) (c1)\n",
        "\n",
        "c2 = Conv2D(32, (3, 3), activation='elu', kernel_initializer='he_normal', padding='same') (p1)\n",
        "c2 = Dropout(0.1) (c2)\n",
        "c2 = Conv2D(32, (3, 3), activation='elu', kernel_initializer='he_normal', padding='same') (c2)\n",
        "p2 = MaxPooling2D((2, 2)) (c2)\n",
        "\n",
        "c3 = Conv2D(64, (3, 3), activation='elu', kernel_initializer='he_normal', padding='same') (p2)\n",
        "c3 = Dropout(0.2) (c3)\n",
        "c3 = Conv2D(64, (3, 3), activation='elu', kernel_initializer='he_normal', padding='same') (c3)\n",
        "p3 = MaxPooling2D((2, 2)) (c3)\n",
        "\n",
        "c4 = Conv2D(128, (3, 3), activation='elu', kernel_initializer='he_normal', padding='same') (p3)\n",
        "c4 = Dropout(0.2) (c4)\n",
        "c4 = Conv2D(128, (3, 3), activation='elu', kernel_initializer='he_normal', padding='same') (c4)\n",
        "p4 = MaxPooling2D(pool_size=(2, 2)) (c4)\n",
        "\n",
        "c5 = Conv2D(256, (3, 3), activation='elu', kernel_initializer='he_normal', padding='same') (p4)\n",
        "c5 = Dropout(0.3) (c5)\n",
        "c5 = Conv2D(256, (3, 3), activation='elu', kernel_initializer='he_normal', padding='same') (c5)\n",
        "\n",
        "u6 = Conv2DTranspose(128, (2, 2), strides=(2, 2), padding='same') (c5)\n",
        "u6 = concatenate([u6, c4])\n",
        "c6 = Conv2D(128, (3, 3), activation='elu', kernel_initializer='he_normal', padding='same') (u6)\n",
        "c6 = Dropout(0.2) (c6)\n",
        "c6 = Conv2D(128, (3, 3), activation='elu', kernel_initializer='he_normal', padding='same') (c6)\n",
        "\n",
        "u7 = Conv2DTranspose(64, (2, 2), strides=(2, 2), padding='same') (c6)\n",
        "u7 = concatenate([u7, c3])\n",
        "c7 = Conv2D(64, (3, 3), activation='elu', kernel_initializer='he_normal', padding='same') (u7)\n",
        "c7 = Dropout(0.2) (c7)\n",
        "c7 = Conv2D(64, (3, 3), activation='elu', kernel_initializer='he_normal', padding='same') (c7)\n",
        "\n",
        "u8 = Conv2DTranspose(32, (2, 2), strides=(2, 2), padding='same') (c7)\n",
        "u8 = concatenate([u8, c2])\n",
        "c8 = Conv2D(32, (3, 3), activation='elu', kernel_initializer='he_normal', padding='same') (u8)\n",
        "c8 = Dropout(0.1) (c8)\n",
        "c8 = Conv2D(32, (3, 3), activation='elu', kernel_initializer='he_normal', padding='same') (c8)\n",
        "\n",
        "u9 = Conv2DTranspose(16, (2, 2), strides=(2, 2), padding='same') (c8)\n",
        "u9 = concatenate([u9, c1], axis=3)\n",
        "c9 = Conv2D(16, (3, 3), activation='elu', kernel_initializer='he_normal', padding='same') (u9)\n",
        "c9 = Dropout(0.1) (c9)\n",
        "c9 = Conv2D(16, (3, 3), activation='elu', kernel_initializer='he_normal', padding='same') (c9)\n",
        "\n",
        "outputs = Conv2D(1, (1, 1), activation='sigmoid') (c9)\n",
        "\n",
        "model = Model(inputs=[inputs], outputs=[outputs])\n",
        "model.compile(optimizer='adam', loss='binary_crossentropy')"
      ],
      "metadata": {
        "id": "IzM9fyjXJ9cx"
      },
      "execution_count": 27,
      "outputs": []
    },
    {
      "cell_type": "code",
      "source": [
        "model.compile(optimizer = 'Adam',loss=\"binary_crossentropy\",metrics=[\"accuracy\"],)"
      ],
      "metadata": {
        "id": "IURJ3S9GOsb7"
      },
      "execution_count": 28,
      "outputs": []
    },
    {
      "cell_type": "code",
      "source": [
        "model.fit(X_train_seg,y_train_seg, epochs = 50)"
      ],
      "metadata": {
        "colab": {
          "base_uri": "https://localhost:8080/"
        },
        "id": "TGNrQgJOU6_u",
        "outputId": "dcde2f2a-ae1e-401d-9a25-0abcdf13c269"
      },
      "execution_count": 29,
      "outputs": [
        {
          "output_type": "stream",
          "name": "stdout",
          "text": [
            "Epoch 1/50\n",
            "17/17 [==============================] - 13s 395ms/step - loss: 0.3836 - accuracy: 0.8492\n",
            "Epoch 2/50\n",
            "17/17 [==============================] - 5s 297ms/step - loss: 0.2775 - accuracy: 0.9200\n",
            "Epoch 3/50\n",
            "17/17 [==============================] - 5s 298ms/step - loss: 0.2452 - accuracy: 0.9228\n",
            "Epoch 4/50\n",
            "17/17 [==============================] - 5s 297ms/step - loss: 0.2220 - accuracy: 0.9269\n",
            "Epoch 5/50\n",
            "17/17 [==============================] - 5s 297ms/step - loss: 0.2132 - accuracy: 0.9265\n",
            "Epoch 6/50\n",
            "17/17 [==============================] - 5s 295ms/step - loss: 0.2079 - accuracy: 0.9286\n",
            "Epoch 7/50\n",
            "17/17 [==============================] - 5s 294ms/step - loss: 0.1943 - accuracy: 0.9331\n",
            "Epoch 8/50\n",
            "17/17 [==============================] - 5s 293ms/step - loss: 0.2055 - accuracy: 0.9304\n",
            "Epoch 9/50\n",
            "17/17 [==============================] - 5s 292ms/step - loss: 0.2036 - accuracy: 0.9303\n",
            "Epoch 10/50\n",
            "17/17 [==============================] - 5s 292ms/step - loss: 0.1898 - accuracy: 0.9333\n",
            "Epoch 11/50\n",
            "17/17 [==============================] - 5s 292ms/step - loss: 0.2031 - accuracy: 0.9250\n",
            "Epoch 12/50\n",
            "17/17 [==============================] - 5s 302ms/step - loss: 0.2016 - accuracy: 0.9299\n",
            "Epoch 13/50\n",
            "17/17 [==============================] - 5s 293ms/step - loss: 0.2024 - accuracy: 0.9308\n",
            "Epoch 14/50\n",
            "17/17 [==============================] - 5s 292ms/step - loss: 0.1833 - accuracy: 0.9346\n",
            "Epoch 15/50\n",
            "17/17 [==============================] - 5s 293ms/step - loss: 0.1775 - accuracy: 0.9385\n",
            "Epoch 16/50\n",
            "17/17 [==============================] - 5s 293ms/step - loss: 0.1738 - accuracy: 0.9399\n",
            "Epoch 17/50\n",
            "17/17 [==============================] - 5s 294ms/step - loss: 0.1829 - accuracy: 0.9351\n",
            "Epoch 18/50\n",
            "17/17 [==============================] - 5s 294ms/step - loss: 0.1664 - accuracy: 0.9416\n",
            "Epoch 19/50\n",
            "17/17 [==============================] - 5s 295ms/step - loss: 0.1984 - accuracy: 0.9338\n",
            "Epoch 20/50\n",
            "17/17 [==============================] - 5s 294ms/step - loss: 0.1744 - accuracy: 0.9394\n",
            "Epoch 21/50\n",
            "17/17 [==============================] - 5s 295ms/step - loss: 0.1651 - accuracy: 0.9422\n",
            "Epoch 22/50\n",
            "17/17 [==============================] - 5s 294ms/step - loss: 0.1555 - accuracy: 0.9456\n",
            "Epoch 23/50\n",
            "17/17 [==============================] - 5s 293ms/step - loss: 0.1521 - accuracy: 0.9462\n",
            "Epoch 24/50\n",
            "17/17 [==============================] - 5s 293ms/step - loss: 0.1558 - accuracy: 0.9439\n",
            "Epoch 25/50\n",
            "17/17 [==============================] - 5s 294ms/step - loss: 0.1500 - accuracy: 0.9474\n",
            "Epoch 26/50\n",
            "17/17 [==============================] - 5s 296ms/step - loss: 0.1420 - accuracy: 0.9503\n",
            "Epoch 27/50\n",
            "17/17 [==============================] - 5s 293ms/step - loss: 0.1373 - accuracy: 0.9511\n",
            "Epoch 28/50\n",
            "17/17 [==============================] - 5s 292ms/step - loss: 0.1364 - accuracy: 0.9516\n",
            "Epoch 29/50\n",
            "17/17 [==============================] - 5s 292ms/step - loss: 0.1386 - accuracy: 0.9514\n",
            "Epoch 30/50\n",
            "17/17 [==============================] - 5s 292ms/step - loss: 0.1517 - accuracy: 0.9465\n",
            "Epoch 31/50\n",
            "17/17 [==============================] - 5s 292ms/step - loss: 0.1366 - accuracy: 0.9522\n",
            "Epoch 32/50\n",
            "17/17 [==============================] - 5s 293ms/step - loss: 0.1403 - accuracy: 0.9514\n",
            "Epoch 33/50\n",
            "17/17 [==============================] - 5s 292ms/step - loss: 0.1357 - accuracy: 0.9515\n",
            "Epoch 34/50\n",
            "17/17 [==============================] - 5s 293ms/step - loss: 0.1260 - accuracy: 0.9553\n",
            "Epoch 35/50\n",
            "17/17 [==============================] - 5s 293ms/step - loss: 0.1300 - accuracy: 0.9549\n",
            "Epoch 36/50\n",
            "17/17 [==============================] - 5s 293ms/step - loss: 0.1156 - accuracy: 0.9582\n",
            "Epoch 37/50\n",
            "17/17 [==============================] - 5s 293ms/step - loss: 0.1183 - accuracy: 0.9574\n",
            "Epoch 38/50\n",
            "17/17 [==============================] - 5s 293ms/step - loss: 0.1147 - accuracy: 0.9588\n",
            "Epoch 39/50\n",
            "17/17 [==============================] - 5s 293ms/step - loss: 0.1230 - accuracy: 0.9559\n",
            "Epoch 40/50\n",
            "17/17 [==============================] - 5s 292ms/step - loss: 0.1271 - accuracy: 0.9527\n",
            "Epoch 41/50\n",
            "17/17 [==============================] - 5s 293ms/step - loss: 0.1055 - accuracy: 0.9617\n",
            "Epoch 42/50\n",
            "17/17 [==============================] - 5s 293ms/step - loss: 0.0934 - accuracy: 0.9651\n",
            "Epoch 43/50\n",
            "17/17 [==============================] - 5s 293ms/step - loss: 0.0890 - accuracy: 0.9668\n",
            "Epoch 44/50\n",
            "17/17 [==============================] - 5s 294ms/step - loss: 0.1076 - accuracy: 0.9604\n",
            "Epoch 45/50\n",
            "17/17 [==============================] - 5s 293ms/step - loss: 0.0911 - accuracy: 0.9662\n",
            "Epoch 46/50\n",
            "17/17 [==============================] - 5s 294ms/step - loss: 0.1080 - accuracy: 0.9603\n",
            "Epoch 47/50\n",
            "17/17 [==============================] - 5s 294ms/step - loss: 0.0955 - accuracy: 0.9644\n",
            "Epoch 48/50\n",
            "17/17 [==============================] - 5s 294ms/step - loss: 0.0801 - accuracy: 0.9694\n",
            "Epoch 49/50\n",
            "17/17 [==============================] - 5s 294ms/step - loss: 0.0950 - accuracy: 0.9650\n",
            "Epoch 50/50\n",
            "17/17 [==============================] - 5s 293ms/step - loss: 0.0841 - accuracy: 0.9684\n"
          ]
        },
        {
          "output_type": "execute_result",
          "data": {
            "text/plain": [
              "<keras.callbacks.History at 0x7fb28a477690>"
            ]
          },
          "metadata": {},
          "execution_count": 29
        }
      ]
    },
    {
      "cell_type": "code",
      "source": [
        "predictions_Unet = model.predict(X_test_seg)"
      ],
      "metadata": {
        "id": "NsZ-kaaFNUw0"
      },
      "execution_count": 32,
      "outputs": []
    },
    {
      "cell_type": "code",
      "source": [
        "fig, axs = plt.subplots(2,2, figsize=(8,5))\n",
        "\n",
        "Original_image = selected_image\n",
        "axs[0,0].set(title = 'Original Ultrasound Image')\n",
        "axs[0,0].imshow(img, cmap = 'gray')\n",
        "\n",
        "axs[1,0].set(title = 'Ground Truth')\n",
        "axs[1,0].imshow(ground_truth, cmap = plt.cm.gray)\n",
        "\n",
        "axs[0,1].set(title = 'Predicted by Unet')\n",
        "axs[0,1].imshow(np.squeeze(predictions_Unet[25]), cmap = plt.cm.gray)\n",
        "\n",
        "plt.subplots_adjust(left=0.2, bottom=0.2, right=1, top=1.2, wspace=0.4, hspace=0.4)\n",
        "plt.show()"
      ],
      "metadata": {
        "colab": {
          "base_uri": "https://localhost:8080/",
          "height": 424
        },
        "id": "Dme7EM2CdCrf",
        "outputId": "276b1048-b70b-41a7-afda-461c0c04dfbb"
      },
      "execution_count": 40,
      "outputs": [
        {
          "output_type": "display_data",
          "data": {
            "text/plain": [
              "<Figure size 576x360 with 4 Axes>"
            ],
            "image/png": "[encoded data removed]"
          },
          "metadata": {
            "needs_background": "light"
          }
        }
      ]
    }
  ]
}